{
 "cells": [
  {
   "cell_type": "code",
   "execution_count": 1,
   "metadata": {},
   "outputs": [],
   "source": [
    "import pandas as pd"
   ]
  },
  {
   "cell_type": "code",
   "execution_count": 21,
   "metadata": {},
   "outputs": [],
   "source": [
    "filepath = \"/home/jatin/indic-ITN/src/inverse_text_normalization/hi/data/numbers/tens.tsv\""
   ]
  },
  {
   "cell_type": "code",
   "execution_count": 22,
   "metadata": {},
   "outputs": [],
   "source": [
    "df = pd.read_csv(filepath, sep=\"\\t\", header=None)"
   ]
  },
  {
   "cell_type": "code",
   "execution_count": 23,
   "metadata": {},
   "outputs": [
    {
     "data": {
      "text/plain": [
       "['दस',\n",
       " 'ग्यारा',\n",
       " 'ग्यारह',\n",
       " 'बारा',\n",
       " 'बारह',\n",
       " 'तेरा',\n",
       " 'तेरह',\n",
       " 'चौदह',\n",
       " 'चौदा',\n",
       " 'पंद्रह',\n",
       " 'पद्रा',\n",
       " 'सोलह',\n",
       " 'सोला',\n",
       " 'सतरा',\n",
       " 'सत्रह',\n",
       " 'अट्ठारह',\n",
       " 'अठारा',\n",
       " 'उन्नीस',\n",
       " 'उन्निस',\n",
       " 'बिस',\n",
       " 'बीस',\n",
       " 'इक्कीस',\n",
       " 'इक्किस',\n",
       " 'बाईस',\n",
       " 'तेईस',\n",
       " 'चौबिस',\n",
       " 'पच्चिस',\n",
       " 'पच्चीस',\n",
       " 'छब्बीस',\n",
       " 'छब्बिस',\n",
       " 'सत्ताईस',\n",
       " 'अट्ठाईस',\n",
       " 'अठाईस',\n",
       " 'उनतिस',\n",
       " 'उनतीस',\n",
       " 'तिस',\n",
       " 'तीस',\n",
       " 'इकतीस',\n",
       " 'इकतिस',\n",
       " 'बत्तीस',\n",
       " 'बत्तिस',\n",
       " 'तैतिस',\n",
       " 'तैंतीस',\n",
       " 'चौंतीस',\n",
       " 'चौतिस',\n",
       " 'पैतिस',\n",
       " 'पैंतीस',\n",
       " 'छत्तिस',\n",
       " 'छत्तीस',\n",
       " 'सैंतीस',\n",
       " 'सैतिस',\n",
       " 'अडतिस',\n",
       " 'अड़तीस',\n",
       " 'उनचालीस',\n",
       " 'उनचालिस',\n",
       " 'उनतालिस',\n",
       " 'उनतालीस',\n",
       " 'चालीस',\n",
       " 'चालिस',\n",
       " 'इकतालिस',\n",
       " 'इकतालीस',\n",
       " 'बयालीस',\n",
       " 'बयालिस',\n",
       " 'तैतालिस',\n",
       " 'तैंतालीस',\n",
       " 'तरालिस',\n",
       " 'तरालीस',\n",
       " 'चौआलिस',\n",
       " 'चौतालिस',\n",
       " 'चौंतालीस',\n",
       " 'पैतालिस',\n",
       " 'पैंतालीस',\n",
       " 'छियालीस',\n",
       " 'छियालिस',\n",
       " 'सैतालिस',\n",
       " 'सैंतालीस',\n",
       " 'अड़तालीस',\n",
       " 'अडतालिस',\n",
       " 'उनचास',\n",
       " 'उनपचास',\n",
       " 'पचास',\n",
       " 'इक्यावन',\n",
       " 'इक्कावन',\n",
       " 'बावन',\n",
       " 'तिरेपन',\n",
       " 'चौवन',\n",
       " 'पचपन',\n",
       " 'छप्पन',\n",
       " 'सत्तावन',\n",
       " 'अट्ठावन',\n",
       " 'अठावन',\n",
       " 'उनसठ',\n",
       " 'साठ',\n",
       " 'इकसठ',\n",
       " 'बासठ',\n",
       " 'तिरेसठ',\n",
       " 'चौंसठ',\n",
       " 'चौसठ',\n",
       " 'पैसठ',\n",
       " 'पैंसठ',\n",
       " 'छयासठ',\n",
       " 'सरसठ',\n",
       " 'अडसठ',\n",
       " 'अड़सठ',\n",
       " 'उनहत्तर',\n",
       " 'सत्तर',\n",
       " 'इकहत्तर',\n",
       " 'बहत्तर',\n",
       " 'तिहत्तर',\n",
       " 'चौहत्तर',\n",
       " 'पचहत्तर',\n",
       " 'छिहत्तर',\n",
       " 'सतहत्तर',\n",
       " 'अठत्तर',\n",
       " 'अठहत्तर',\n",
       " 'उन्यासि',\n",
       " 'उन्यासी',\n",
       " 'अस्सि',\n",
       " 'अस्सी',\n",
       " 'इक्यासि',\n",
       " 'इक्यासी',\n",
       " 'बयासि',\n",
       " 'बयासी',\n",
       " 'तिरासि',\n",
       " 'तिरासी',\n",
       " 'चौरासि',\n",
       " 'चौरासी',\n",
       " 'पचासि',\n",
       " 'पचासी',\n",
       " 'छियासि',\n",
       " 'छियासी',\n",
       " 'सत्तासी',\n",
       " 'सत्तासि',\n",
       " 'अठासि',\n",
       " 'अठासी',\n",
       " 'नवासी',\n",
       " 'नवासि',\n",
       " 'नब्बे',\n",
       " 'इक्यानवे',\n",
       " 'बानवे',\n",
       " 'तिरानवे',\n",
       " 'चौरानवे',\n",
       " 'पचानवे',\n",
       " 'छियानवे',\n",
       " 'सत्तानवे',\n",
       " 'अठानवे',\n",
       " 'अट्ठानवे',\n",
       " 'निन्यानवे']"
      ]
     },
     "execution_count": 23,
     "metadata": {},
     "output_type": "execute_result"
    }
   ],
   "source": [
    "words = df[0].tolist()\n",
    "words"
   ]
  },
  {
   "cell_type": "code",
   "execution_count": 24,
   "metadata": {},
   "outputs": [],
   "source": [
    "from indicnlp.normalize.indic_normalize import DevanagariNormalizer"
   ]
  },
  {
   "cell_type": "code",
   "execution_count": 25,
   "metadata": {},
   "outputs": [],
   "source": [
    "normalizer = DevanagariNormalizer()"
   ]
  },
  {
   "cell_type": "code",
   "execution_count": 26,
   "metadata": {},
   "outputs": [],
   "source": [
    "words = [normalizer.normalize(word) for word in words]"
   ]
  },
  {
   "cell_type": "code",
   "execution_count": 27,
   "metadata": {},
   "outputs": [],
   "source": [
    "df[0] = words"
   ]
  },
  {
   "cell_type": "code",
   "execution_count": 28,
   "metadata": {},
   "outputs": [],
   "source": [
    "df.to_csv(filepath, sep=\"\\t\", header=None, index=False)"
   ]
  },
  {
   "cell_type": "code",
   "execution_count": 29,
   "metadata": {},
   "outputs": [
    {
     "data": {
      "text/plain": [
       "'मुझे शून्य जुलाई लगे'"
      ]
     },
     "execution_count": 29,
     "metadata": {},
     "output_type": "execute_result"
    }
   ],
   "source": [
    "normalizer.normalize(\"मुझे शून्य जुलाई लगे\")"
   ]
  },
  {
   "cell_type": "code",
   "execution_count": null,
   "metadata": {},
   "outputs": [],
   "source": []
  }
 ],
 "metadata": {
  "kernelspec": {
   "display_name": "indicitn",
   "language": "python",
   "name": "python3"
  },
  "language_info": {
   "codemirror_mode": {
    "name": "ipython",
    "version": 3
   },
   "file_extension": ".py",
   "mimetype": "text/x-python",
   "name": "python",
   "nbconvert_exporter": "python",
   "pygments_lexer": "ipython3",
   "version": "3.9.16"
  },
  "orig_nbformat": 4
 },
 "nbformat": 4,
 "nbformat_minor": 2
}
