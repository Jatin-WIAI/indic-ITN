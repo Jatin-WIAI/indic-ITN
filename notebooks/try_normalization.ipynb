{
 "cells": [
  {
   "cell_type": "code",
   "execution_count": 1,
   "metadata": {},
   "outputs": [],
   "source": [
    "import sys\n",
    "sys.path.append('../src')"
   ]
  },
  {
   "cell_type": "code",
   "execution_count": 2,
   "metadata": {},
   "outputs": [],
   "source": [
    "from inverse_text_normalization.hi.run_predict import inverse_normalize_text"
   ]
  },
  {
   "cell_type": "code",
   "execution_count": 9,
   "metadata": {},
   "outputs": [
    {
     "name": "stderr",
     "output_type": "stream",
     "text": [
      "100%|██████████| 33/33 [00:00<00:00, 70.00it/s]\n"
     ]
    }
   ],
   "source": [
    "input = [\n",
    "        \"एक सौ ग्यारह जमीन है\",\n",
    "        \"पाँच सौ एकर जमीन है\",\n",
    "        \"पांचसौ एकर जमीन है\",\n",
    "        \"पाँच सौ सात एकर जमीन है\",\n",
    "        \"देढ लाख एकर जमीन है\",\n",
    "        \"एक दशमलव तीन एकर जमीन है\",\n",
    "        \"501 एकर जमीन है\",\n",
    "        \"आधा एकर जमीन है\",\n",
    "        \"देढ़ एकर जमीन है\",\n",
    "        \"देड़ एकर\",\n",
    "        \"साढ़े छः एकड़ जमीन\",\n",
    "        \"मेरे पास साढ़े दस एकड़ जमीन है\",\n",
    "        \"निश्लसेलिशन चार सौ छः एकर जमीन है\",\n",
    "        \"दो हज़ार पाँच सौ तीस\",\n",
    "        \"पाँच सौ सैतालीस एकर जमीन है\",\n",
    "        \"मेरे पास पात सौ तीस एकर जमीन है\",\n",
    "        \"तिरपन\",\n",
    "        \"सैंतालिस\",\n",
    "        \"दो हज़ार पाँच सौ त्रेपन\",\n",
    "        \"देढ़ सौ एकर जमीन है\",\n",
    "        \"साढ़े छः सौ एकड़ जमीन\",\n",
    "        \"ग्यारह सौ एकर जमीन है\",\n",
    "        \"ढाई सो एकर जमीन\",\n",
    "        \"ढाईसो एकर जमीन\",\n",
    "        \"मेरे परिवार में कुल बारा लोग है\",\n",
    "        \"दो लाख पंद्रह हजार छः सौ इक्कीस\",\n",
    "        \"सोलह करोड़ दो लाख पंद्रह हजार छः सौ इक्कीस\",\n",
    "        \"एक दशमलव तीन एकर जमीन है\",\n",
    "        \"दो दशमलव तीन चार\",\n",
    "        \"पाँच नवंबर दो हज़ार सोलह \",\n",
    "        \"छः सौ इक्कीस\",\n",
    "        \"छः सौ इक्कीस एकर जमीन है\",\n",
    "        \"पाँच सौ छः सौ इक्कीस एकर जमीन है\"\n",
    "    ]\n",
    "output = inverse_normalize_text(input)"
   ]
  },
  {
   "cell_type": "code",
   "execution_count": 10,
   "metadata": {},
   "outputs": [
    {
     "name": "stdout",
     "output_type": "stream",
     "text": [
      "111 जमीन है  -----  एक सौ ग्यारह जमीन है\n",
      "500 एकर जमीन है  -----  पाँच सौ एकर जमीन है\n",
      "पांचसौ एकर जमीन है  -----  पांचसौ एकर जमीन है\n",
      "507 एकर जमीन है  -----  पाँच सौ सात एकर जमीन है\n",
      "150000 एकर जमीन है  -----  देढ लाख एकर जमीन है\n",
      "1.3 एकर जमीन है  -----  एक दशमलव तीन एकर जमीन है\n",
      "501 एकर जमीन है  -----  501 एकर जमीन है\n",
      "0.5 एकर जमीन है  -----  आधा एकर जमीन है\n",
      "1.5 एकर जमीन है  -----  देढ़ एकर जमीन है\n",
      "1.5 एकर  -----  देड़ एकर\n",
      "6.5 एकड़ जमीन  -----  साढ़े छः एकड़ जमीन\n",
      "मेरे पास 10.5 एकड़ जमीन है  -----  मेरे पास साढ़े दस एकड़ जमीन है\n",
      "निश्लसेलिशन 406 एकर जमीन है  -----  निश्लसेलिशन चार सौ छः एकर जमीन है\n",
      "2530  -----  दो हज़ार पाँच सौ तीस\n",
      "500 सैतालीस एकर जमीन है  -----  पाँच सौ सैतालीस एकर जमीन है\n",
      "मेरे पास पात 100 30 एकर जमीन है  -----  मेरे पास पात सौ तीस एकर जमीन है\n",
      "तिरपन  -----  तिरपन\n",
      "सैंतालिस  -----  सैंतालिस\n",
      "2500 त्रेपन  -----  दो हज़ार पाँच सौ त्रेपन\n",
      "देढ़ 100 एकर जमीन है  -----  देढ़ सौ एकर जमीन है\n",
      "650 एकड़ जमीन  -----  साढ़े छः सौ एकड़ जमीन\n",
      "1100 एकर जमीन है  -----  ग्यारह सौ एकर जमीन है\n",
      "250 एकर जमीन  -----  ढाई सो एकर जमीन\n",
      "250 एकर जमीन  -----  ढाईसो एकर जमीन\n",
      "मेरे परिवार में कुल 12 लोग है  -----  मेरे परिवार में कुल बारा लोग है\n",
      "215621  -----  दो लाख पंद्रह हजार छः सौ इक्कीस\n",
      "160215621  -----  सोलह करोड़ दो लाख पंद्रह हजार छः सौ इक्कीस\n",
      "1.3 एकर जमीन है  -----  एक दशमलव तीन एकर जमीन है\n",
      "2.34  -----  दो दशमलव तीन चार\n",
      "5 नवंबर दो हज़ार 16  -----  पाँच नवंबर दो हज़ार सोलह \n",
      "621  -----  छः सौ इक्कीस\n",
      "621 एकर जमीन है  -----  छः सौ इक्कीस एकर जमीन है\n",
      "500 621 एकर जमीन है  -----  पाँच सौ छः सौ इक्कीस एकर जमीन है\n"
     ]
    }
   ],
   "source": [
    "for i,j in zip(output,input):\n",
    "    print(i,\" ----- \",j)"
   ]
  },
  {
   "cell_type": "code",
   "execution_count": 3,
   "metadata": {},
   "outputs": [],
   "source": [
    "from inverse_text_normalization.hi.taggers.cardinal import CardinalFst\n",
    "from inverse_text_normalization.hi.taggers.tokenize_and_classify_final import ClassifyFinalFst"
   ]
  },
  {
   "cell_type": "code",
   "execution_count": 11,
   "metadata": {},
   "outputs": [
    {
     "ename": "FileNotFoundError",
     "evalue": "[Errno 2] No such file or directory: 'dot'",
     "output_type": "error",
     "traceback": [
      "\u001b[0;31m---------------------------------------------------------------------------\u001b[0m",
      "\u001b[0;31mFileNotFoundError\u001b[0m                         Traceback (most recent call last)",
      "File \u001b[0;32m/usr/lib/python3.9/subprocess.py:951\u001b[0m, in \u001b[0;36mPopen.__init__\u001b[0;34m(self, args, bufsize, executable, stdin, stdout, stderr, preexec_fn, close_fds, shell, cwd, env, universal_newlines, startupinfo, creationflags, restore_signals, start_new_session, pass_fds, user, group, extra_groups, encoding, errors, text, umask)\u001b[0m\n\u001b[1;32m    947\u001b[0m         \u001b[39mif\u001b[39;00m \u001b[39mself\u001b[39m\u001b[39m.\u001b[39mtext_mode:\n\u001b[1;32m    948\u001b[0m             \u001b[39mself\u001b[39m\u001b[39m.\u001b[39mstderr \u001b[39m=\u001b[39m io\u001b[39m.\u001b[39mTextIOWrapper(\u001b[39mself\u001b[39m\u001b[39m.\u001b[39mstderr,\n\u001b[1;32m    949\u001b[0m                     encoding\u001b[39m=\u001b[39mencoding, errors\u001b[39m=\u001b[39merrors)\n\u001b[0;32m--> 951\u001b[0m     \u001b[39mself\u001b[39;49m\u001b[39m.\u001b[39;49m_execute_child(args, executable, preexec_fn, close_fds,\n\u001b[1;32m    952\u001b[0m                         pass_fds, cwd, env,\n\u001b[1;32m    953\u001b[0m                         startupinfo, creationflags, shell,\n\u001b[1;32m    954\u001b[0m                         p2cread, p2cwrite,\n\u001b[1;32m    955\u001b[0m                         c2pread, c2pwrite,\n\u001b[1;32m    956\u001b[0m                         errread, errwrite,\n\u001b[1;32m    957\u001b[0m                         restore_signals,\n\u001b[1;32m    958\u001b[0m                         gid, gids, uid, umask,\n\u001b[1;32m    959\u001b[0m                         start_new_session)\n\u001b[1;32m    960\u001b[0m \u001b[39mexcept\u001b[39;00m:\n\u001b[1;32m    961\u001b[0m     \u001b[39m# Cleanup if the child failed starting.\u001b[39;00m\n\u001b[1;32m    962\u001b[0m     \u001b[39mfor\u001b[39;00m f \u001b[39min\u001b[39;00m \u001b[39mfilter\u001b[39m(\u001b[39mNone\u001b[39;00m, (\u001b[39mself\u001b[39m\u001b[39m.\u001b[39mstdin, \u001b[39mself\u001b[39m\u001b[39m.\u001b[39mstdout, \u001b[39mself\u001b[39m\u001b[39m.\u001b[39mstderr)):\n",
      "File \u001b[0;32m/usr/lib/python3.9/subprocess.py:1821\u001b[0m, in \u001b[0;36mPopen._execute_child\u001b[0;34m(self, args, executable, preexec_fn, close_fds, pass_fds, cwd, env, startupinfo, creationflags, shell, p2cread, p2cwrite, c2pread, c2pwrite, errread, errwrite, restore_signals, gid, gids, uid, umask, start_new_session)\u001b[0m\n\u001b[1;32m   1819\u001b[0m     \u001b[39mif\u001b[39;00m errno_num \u001b[39m!=\u001b[39m \u001b[39m0\u001b[39m:\n\u001b[1;32m   1820\u001b[0m         err_msg \u001b[39m=\u001b[39m os\u001b[39m.\u001b[39mstrerror(errno_num)\n\u001b[0;32m-> 1821\u001b[0m     \u001b[39mraise\u001b[39;00m child_exception_type(errno_num, err_msg, err_filename)\n\u001b[1;32m   1822\u001b[0m \u001b[39mraise\u001b[39;00m child_exception_type(err_msg)\n",
      "\u001b[0;31mFileNotFoundError\u001b[0m: [Errno 2] No such file or directory: 'dot'"
     ]
    },
    {
     "name": "stderr",
     "output_type": "stream",
     "text": [
      "Exception ignored in: '_pywrapfst.Fst._local_render_svg'\n",
      "Traceback (most recent call last):\n",
      "  File \"/usr/lib/python3.9/subprocess.py\", line 951, in __init__\n",
      "    self._execute_child(args, executable, preexec_fn, close_fds,\n",
      "  File \"/usr/lib/python3.9/subprocess.py\", line 1821, in _execute_child\n",
      "    raise child_exception_type(errno_num, err_msg, err_filename)\n",
      "FileNotFoundError: [Errno 2] No such file or directory: 'dot'\n"
     ]
    },
    {
     "data": {
      "image/svg+xml": [],
      "text/plain": [
       "<vector Fst at 0x7f124b6f9d30>"
      ]
     },
     "execution_count": 11,
     "metadata": {},
     "output_type": "execute_result"
    }
   ],
   "source": [
    "text = \"देढ़ सौ एकर जमीन है\"\n",
    "pynini.shortestpath(pynini.escape(text) @ ClassifyFinalFst().fst)"
   ]
  },
  {
   "cell_type": "code",
   "execution_count": 1,
   "metadata": {},
   "outputs": [],
   "source": [
    "from pynini.lib import pynutil\n",
    "import pynini\n",
    "def apply_fst(text, fst):\n",
    "  \"\"\" Given a string input, returns the output string\n",
    "  produced by traversing the path with lowest weight.\n",
    "  If no valid path accepts input string, returns an\n",
    "  error.\n",
    "  \"\"\"\n",
    "  try:\n",
    "     print(pynini.shortestpath(text @ fst).string())\n",
    "  except pynini.FstOpError:\n",
    "    print(f\"Error: No valid output with given input: '{text}'\")"
   ]
  },
  {
   "cell_type": "code",
   "execution_count": 7,
   "metadata": {},
   "outputs": [
    {
     "name": "stdout",
     "output_type": "stream",
     "text": [
      "Error: No valid output with given input: 'देढ़ सौ एकर जमीन है'\n"
     ]
    },
    {
     "name": "stderr",
     "output_type": "stream",
     "text": [
      "ERROR: StringFstToOutputLabels: Invalid start state\n"
     ]
    }
   ],
   "source": [
    "apply_fst(\"देढ़ सौ एकर जमीन है\", CardinalFst().fst)"
   ]
  },
  {
   "cell_type": "code",
   "execution_count": 18,
   "metadata": {},
   "outputs": [
    {
     "name": "stdout",
     "output_type": "stream",
     "text": [
      "Error: No valid output with given input: 'छः सौ इक्कीस एकर जमीन है'\n"
     ]
    },
    {
     "name": "stderr",
     "output_type": "stream",
     "text": [
      "ERROR: StringFstToOutputLabels: Invalid start state\n"
     ]
    }
   ],
   "source": [
    "apply_fst(\"छः सौ इक्कीस एकर जमीन है\", CardinalFst().fst)"
   ]
  },
  {
   "cell_type": "code",
   "execution_count": 4,
   "metadata": {},
   "outputs": [],
   "source": [
    "\n",
    "tagger= ClassifyFinalFst()\n",
    "\n",
    "def find_tags(text: str) -> 'pynini.FstLike':\n",
    "    \"\"\"\n",
    "    Given text use tagger Fst to tag text\n",
    "\n",
    "    Args:\n",
    "        text: sentence\n",
    "\n",
    "    Returns: tagged lattice\n",
    "    \"\"\"\n",
    "    lattice = text @ tagger.fst\n",
    "    return lattice\n",
    "\n",
    "\n",
    "def select_tag(lattice: 'pynini.FstLike') -> str:\n",
    "    \"\"\"\n",
    "    Given tagged lattice return shortest path\n",
    "\n",
    "    Args:\n",
    "        tagged_text: tagged text\n",
    "\n",
    "    Returns: shortest path\n",
    "    \"\"\"\n",
    "    tagged_text = pynini.shortestpath(lattice, nshortest=1, unique=True).string()\n",
    "    return tagged_text\n",
    "\n"
   ]
  },
  {
   "cell_type": "code",
   "execution_count": 5,
   "metadata": {},
   "outputs": [],
   "source": [
    "text = \"साढ़े छः सौ एकड़ जमीन\"\n",
    "text = pynini.escape(text)\n",
    "tagged_lattice = find_tags(text)\n",
    "# print(\"tagged lattice is \", tagged_lattice)\n",
    "tagged_text = select_tag(tagged_lattice)"
   ]
  },
  {
   "cell_type": "code",
   "execution_count": 6,
   "metadata": {},
   "outputs": [
    {
     "data": {
      "text/plain": [
       "'tokens { cardinal { integer: \"FRACX.5\" } } tokens { cardinal { integer: \"000000600\" } } tokens { name: \"एकड़\" } tokens { name: \"जमीन\" }'"
      ]
     },
     "execution_count": 6,
     "metadata": {},
     "output_type": "execute_result"
    }
   ],
   "source": [
    "tagged_text"
   ]
  },
  {
   "cell_type": "code",
   "execution_count": 7,
   "metadata": {},
   "outputs": [],
   "source": [
    "def find_verbalizer(tagged_text: str) -> 'pynini.FstLike':\n",
    "    \"\"\"\n",
    "    Given tagged text, e.g. token {name: \"\"} token {money {fractional: \"\"}}, creates verbalization lattice\n",
    "    This is context-independent.\n",
    "\n",
    "    Args:\n",
    "        tagged_text: input text\n",
    "\n",
    "    Returns: verbalized lattice\n",
    "    \"\"\"\n",
    "    lattice = tagged_text @ verbalizer.fst\n",
    "    return lattice\n",
    "\n",
    "\n",
    "def select_verbalizer(lattice: 'pynini.FstLike') -> str:\n",
    "    \"\"\"\n",
    "    Given verbalized lattice return shortest path\n",
    "\n",
    "    Args:\n",
    "        lattice: verbalization lattice\n",
    "\n",
    "    Returns: shortest path\n",
    "    \"\"\"\n",
    "    output = pynini.shortestpath(lattice, nshortest=1, unique=True).string()\n",
    "    return output"
   ]
  },
  {
   "cell_type": "code",
   "execution_count": 8,
   "metadata": {},
   "outputs": [],
   "source": [
    "from inverse_text_normalization.hi.verbalizers.verbalize_final import VerbalizeFinalFst\n",
    "verbalizer = VerbalizeFinalFst()"
   ]
  },
  {
   "cell_type": "code",
   "execution_count": 9,
   "metadata": {},
   "outputs": [
    {
     "name": "stdout",
     "output_type": "stream",
     "text": [
      "FRACX.5 000000600 एकड़ जमीन\n"
     ]
    }
   ],
   "source": [
    "verbalizer_lattice = find_verbalizer(tagged_text)\n",
    "output = select_verbalizer(verbalizer_lattice)\n",
    "print(output)"
   ]
  },
  {
   "cell_type": "code",
   "execution_count": null,
   "metadata": {},
   "outputs": [],
   "source": []
  }
 ],
 "metadata": {
  "kernelspec": {
   "display_name": "indicitn",
   "language": "python",
   "name": "python3"
  },
  "language_info": {
   "codemirror_mode": {
    "name": "ipython",
    "version": 3
   },
   "file_extension": ".py",
   "mimetype": "text/x-python",
   "name": "python",
   "nbconvert_exporter": "python",
   "pygments_lexer": "ipython3",
   "version": "3.9.16"
  },
  "orig_nbformat": 4
 },
 "nbformat": 4,
 "nbformat_minor": 2
}
